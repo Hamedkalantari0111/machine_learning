{
 "cells": [
  {
   "cell_type": "code",
   "execution_count": null,
   "id": "8bab9108",
   "metadata": {},
   "outputs": [],
   "source": [
    "! pip install jupyterthemes\n",
    "# !jt -l\n",
    "# jt -r \n",
    "!jt -t oceans16 -tf merriserif -tfs 14 -nf ptsans -nfs 14"
   ]
  },
  {
   "cell_type": "code",
   "execution_count": null,
   "id": "de18faa2",
   "metadata": {},
   "outputs": [],
   "source": [
    "!jt -l"
   ]
  },
  {
   "cell_type": "code",
   "execution_count": null,
   "id": "af95ad7b",
   "metadata": {},
   "outputs": [],
   "source": [
    "# For changing the theme of the jupter notebook\n",
    "\n",
    "from jupyterthemes import get_themes\n",
    "import jupyterthemes as jt\n",
    "from jupyterthemes.stylefx import set_nb_theme\n",
    "\n",
    "set_nb_theme('chesterish')"
   ]
  },
  {
   "cell_type": "code",
   "execution_count": null,
   "id": "6cd32811",
   "metadata": {},
   "outputs": [],
   "source": []
  }
 ],
 "metadata": {
  "kernelspec": {
   "display_name": "Python 3 (ipykernel)",
   "language": "python",
   "name": "python3"
  },
  "language_info": {
   "codemirror_mode": {
    "name": "ipython",
    "version": 3
   },
   "file_extension": ".py",
   "mimetype": "text/x-python",
   "name": "python",
   "nbconvert_exporter": "python",
   "pygments_lexer": "ipython3",
   "version": "3.10.9"
  }
 },
 "nbformat": 4,
 "nbformat_minor": 5
}
