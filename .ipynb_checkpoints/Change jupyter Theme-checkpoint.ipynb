{
 "cells": [
  {
   "cell_type": "code",
   "execution_count": 1,
   "id": "8bab9108",
   "metadata": {},
   "outputs": [],
   "source": [
    "#! pip install jupyterthemes\n",
    "# !jt -l\n",
    "# jt -r \n",
    "!jt -t chesterish -tf merriserif -tfs 14 -nf ptsans -nfs 14"
   ]
  },
  {
   "cell_type": "code",
   "execution_count": 1,
   "id": "de18faa2",
   "metadata": {},
   "outputs": [
    {
     "name": "stdout",
     "output_type": "stream",
     "text": [
      "Available Themes: \n",
      "   chesterish\n",
      "   grade3\n",
      "   gruvboxd\n",
      "   gruvboxl\n",
      "   monokai\n",
      "   oceans16\n",
      "   onedork\n",
      "   solarizedd\n",
      "   solarizedl\n"
     ]
    }
   ],
   "source": [
    "!jt -l"
   ]
  },
  {
   "cell_type": "code",
   "execution_count": null,
   "id": "af95ad7b",
   "metadata": {},
   "outputs": [],
   "source": [
    "# For changing the theme of the jupter notebook\n",
    "\n",
    "from jupyterthemes import get_themes\n",
    "import jupyterthemes as jt\n",
    "from jupyterthemes.stylefx import set_nb_theme\n",
    "\n",
    "set_nb_theme('chesterish')"
   ]
  },
  {
   "cell_type": "code",
   "execution_count": null,
   "id": "6cd32811",
   "metadata": {},
   "outputs": [],
   "source": [
    "%%html\n",
    "<style type='hack'>\n",
    ".CodeMirror{\n",
    "font-size: 14px;\n",
    "</style>"
   ]
  }
 ],
 "metadata": {
  "kernelspec": {
   "display_name": "Python 3 (ipykernel)",
   "language": "python",
   "name": "python3"
  },
  "language_info": {
   "codemirror_mode": {
    "name": "ipython",
    "version": 3
   },
   "file_extension": ".py",
   "mimetype": "text/x-python",
   "name": "python",
   "nbconvert_exporter": "python",
   "pygments_lexer": "ipython3",
   "version": "3.10.9"
  }
 },
 "nbformat": 4,
 "nbformat_minor": 5
}
