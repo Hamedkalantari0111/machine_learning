{
 "cells": [
  {
   "cell_type": "code",
   "execution_count": 2,
   "id": "8bab9108",
   "metadata": {},
   "outputs": [
    {
     "name": "stdout",
     "output_type": "stream",
     "text": [
      "\n",
      "\tOne of the fonts you requested is not available\n",
      "\tSetting all fonts to default\n"
     ]
    },
    {
     "name": "stderr",
     "output_type": "stream",
     "text": [
      "Traceback (most recent call last):\n",
      "  File \"C:\\Users\\Badiee\\anaconda3\\lib\\runpy.py\", line 196, in _run_module_as_main\n",
      "    return _run_code(code, main_globals, None,\n",
      "  File \"C:\\Users\\Badiee\\anaconda3\\lib\\runpy.py\", line 86, in _run_code\n",
      "    exec(code, run_globals)\n",
      "  File \"C:\\Users\\Badiee\\anaconda3\\Scripts\\jt.exe\\__main__.py\", line 7, in <module>\n",
      "  File \"C:\\Users\\Badiee\\anaconda3\\lib\\site-packages\\jupyterthemes\\__init__.py\", line 290, in main\n",
      "    install_theme(\n",
      "  File \"C:\\Users\\Badiee\\anaconda3\\lib\\site-packages\\jupyterthemes\\__init__.py\", line 69, in install_theme\n",
      "    style_less = stylefx.set_font_properties(\n",
      "  File \"C:\\Users\\Badiee\\anaconda3\\lib\\site-packages\\jupyterthemes\\stylefx.py\", line 147, in set_font_properties\n",
      "    tcfont, tcfontpath = stored_font_dicts(tcfont)\n",
      "ValueError: not enough values to unpack (expected 2, got 0)\n"
     ]
    }
   ],
   "source": [
    "#! pip install jupyterthemes\n",
    "# !jt -l\n",
    "# jt -r \n",
    "!jt -t chesterish -tf merriserif -tfs 16 -nf ptsans -nfs 14"
   ]
  },
  {
   "cell_type": "code",
   "execution_count": 1,
   "id": "de18faa2",
   "metadata": {},
   "outputs": [
    {
     "name": "stdout",
     "output_type": "stream",
     "text": [
      "Available Themes: \n",
      "   chesterish\n",
      "   grade3\n",
      "   gruvboxd\n",
      "   gruvboxl\n",
      "   monokai\n",
      "   oceans16\n",
      "   onedork\n",
      "   solarizedd\n",
      "   solarizedl\n"
     ]
    }
   ],
   "source": [
    "!jt -l"
   ]
  },
  {
   "cell_type": "code",
   "execution_count": null,
   "id": "af95ad7b",
   "metadata": {},
   "outputs": [],
   "source": [
    "# For changing the theme of the jupter notebook\n",
    "\n",
    "from jupyterthemes import get_themes\n",
    "import jupyterthemes as jt\n",
    "from jupyterthemes.stylefx import set_nb_theme\n",
    "\n",
    "set_nb_theme('chesterish')"
   ]
  },
  {
   "cell_type": "code",
   "execution_count": null,
   "id": "6cd32811",
   "metadata": {},
   "outputs": [],
   "source": [
    "%%html\n",
    "<style type='hack'>\n",
    ".CodeMirror{\n",
    "font-size: 14px;\n",
    "</style>"
   ]
  }
 ],
 "metadata": {
  "kernelspec": {
   "display_name": "Python 3 (ipykernel)",
   "language": "python",
   "name": "python3"
  },
  "language_info": {
   "codemirror_mode": {
    "name": "ipython",
    "version": 3
   },
   "file_extension": ".py",
   "mimetype": "text/x-python",
   "name": "python",
   "nbconvert_exporter": "python",
   "pygments_lexer": "ipython3",
   "version": "3.10.9"
  }
 },
 "nbformat": 4,
 "nbformat_minor": 5
}
