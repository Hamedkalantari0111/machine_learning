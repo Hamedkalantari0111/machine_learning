{
 "cells": [
  {
   "cell_type": "markdown",
   "id": "0608d8ff",
   "metadata": {},
   "source": [
    "# See the guid for jupyter theme\n",
    "https://github.com/dunovank/jupyter-themes"
   ]
  },
  {
   "cell_type": "code",
   "execution_count": 23,
   "id": "8bab9108",
   "metadata": {},
   "outputs": [],
   "source": [
    "# ! pip install jupyterthemes\n",
    "import jupyterthemes as jt\n",
    "\n",
    "\n",
    "## Reset the theme\n",
    "# jt -r \n",
    "\n",
    "## show the list of themes\n",
    "# !jt -l\n",
    "\n",
    "## select themes\n",
    "!jt -t grade3 -tf merriserif -tfs 13 -nf ptsans -nfs 13"
   ]
  },
  {
   "cell_type": "code",
   "execution_count": 7,
   "id": "de18faa2",
   "metadata": {},
   "outputs": [
    {
     "name": "stdout",
     "output_type": "stream",
     "text": [
      "Available Themes: \n",
      "   chesterish\n",
      "   grade3\n",
      "   gruvboxd\n",
      "   gruvboxl\n",
      "   monokai\n",
      "   oceans16\n",
      "   onedork\n",
      "   solarizedd\n",
      "   solarizedl\n"
     ]
    }
   ],
   "source": [
    "!jt -l"
   ]
  },
  {
   "cell_type": "code",
   "execution_count": null,
   "id": "af95ad7b",
   "metadata": {},
   "outputs": [],
   "source": [
    "# For changing the theme of the jupter notebook\n",
    "\n",
    "from jupyterthemes import get_themes\n",
    "import jupyterthemes as jt\n",
    "from jupyterthemes.stylefx import set_nb_theme\n",
    "\n",
    "set_nb_theme('chesterish')"
   ]
  },
  {
   "cell_type": "code",
   "execution_count": 12,
   "id": "6cd32811",
   "metadata": {},
   "outputs": [
    {
     "data": {
      "text/html": [
       "<style type='merriserif'>\n",
       ".CodeMirror{\n",
       "font-size: 14px;\n",
       "</style>\n"
      ],
      "text/plain": [
       "<IPython.core.display.HTML object>"
      ]
     },
     "metadata": {},
     "output_type": "display_data"
    }
   ],
   "source": [
    "%%html\n",
    "<style type='merriserif'>\n",
    ".CodeMirror{\n",
    "font-size: 14px;\n",
    "</style>"
   ]
  },
  {
   "cell_type": "code",
   "execution_count": null,
   "id": "4b7fc074",
   "metadata": {},
   "outputs": [],
   "source": []
  }
 ],
 "metadata": {
  "kernelspec": {
   "display_name": "Python 3 (ipykernel)",
   "language": "python",
   "name": "python3"
  },
  "language_info": {
   "codemirror_mode": {
    "name": "ipython",
    "version": 3
   },
   "file_extension": ".py",
   "mimetype": "text/x-python",
   "name": "python",
   "nbconvert_exporter": "python",
   "pygments_lexer": "ipython3",
   "version": "3.10.9"
  }
 },
 "nbformat": 4,
 "nbformat_minor": 5
}
